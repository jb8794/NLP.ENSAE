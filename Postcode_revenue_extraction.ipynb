{
  "nbformat": 4,
  "nbformat_minor": 0,
  "metadata": {
    "colab": {
      "name": "Postcode_revenue_extraction.ipynb",
      "provenance": [],
      "collapsed_sections": [],
      "toc_visible": true,
      "authorship_tag": "ABX9TyMiibjup3XgK3MgV4p2GqOq",
      "include_colab_link": true
    },
    "kernelspec": {
      "name": "python3",
      "display_name": "Python 3"
    }
  },
  "cells": [
    {
      "cell_type": "markdown",
      "metadata": {
        "id": "view-in-github",
        "colab_type": "text"
      },
      "source": [
        "<a href=\"https://colab.research.google.com/github/jb8794/NLP_ENSAE/blob/master/Postcode_revenue_extraction.ipynb\" target=\"_parent\"><img src=\"https://colab.research.google.com/assets/colab-badge.svg\" alt=\"Open In Colab\"/></a>"
      ]
    },
    {
      "cell_type": "code",
      "metadata": {
        "id": "KbfSCvViihEx",
        "colab_type": "code",
        "colab": {}
      },
      "source": [
        "import pandas as pd\n",
        "import numpy as np"
      ],
      "execution_count": 0,
      "outputs": []
    },
    {
      "cell_type": "code",
      "metadata": {
        "id": "htDbdYPyinid",
        "colab_type": "code",
        "colab": {}
      },
      "source": [
        "household_revenue=pd.read_excel('/content/drive/My Drive/householdscalifornia.xlsx', header=1)"
      ],
      "execution_count": 0,
      "outputs": []
    },
    {
      "cell_type": "code",
      "metadata": {
        "id": "XBEQPhPUjkX0",
        "colab_type": "code",
        "outputId": "3e24ace4-48fe-4b7c-cf31-b7820beec613",
        "colab": {
          "base_uri": "https://localhost:8080/",
          "height": 204
        }
      },
      "source": [
        "household_revenue.head()"
      ],
      "execution_count": 23,
      "outputs": [
        {
          "output_type": "execute_result",
          "data": {
            "text/html": [
              "<div>\n",
              "<style scoped>\n",
              "    .dataframe tbody tr th:only-of-type {\n",
              "        vertical-align: middle;\n",
              "    }\n",
              "\n",
              "    .dataframe tbody tr th {\n",
              "        vertical-align: top;\n",
              "    }\n",
              "\n",
              "    .dataframe thead th {\n",
              "        text-align: right;\n",
              "    }\n",
              "</style>\n",
              "<table border=\"1\" class=\"dataframe\">\n",
              "  <thead>\n",
              "    <tr style=\"text-align: right;\">\n",
              "      <th></th>\n",
              "      <th>ZIP\\ncode [1]</th>\n",
              "      <th>Size of adjusted gross income</th>\n",
              "      <th>Number of returns</th>\n",
              "      <th>Number of single returns</th>\n",
              "      <th>Number of joint returns</th>\n",
              "      <th>Number of head of household returns</th>\n",
              "    </tr>\n",
              "  </thead>\n",
              "  <tbody>\n",
              "    <tr>\n",
              "      <th>0</th>\n",
              "      <td>NaN</td>\n",
              "      <td>NaN</td>\n",
              "      <td>NaN</td>\n",
              "      <td>NaN</td>\n",
              "      <td>NaN</td>\n",
              "      <td>NaN</td>\n",
              "    </tr>\n",
              "    <tr>\n",
              "      <th>1</th>\n",
              "      <td>NaN</td>\n",
              "      <td>NaN</td>\n",
              "      <td>-1</td>\n",
              "      <td>-2</td>\n",
              "      <td>-3</td>\n",
              "      <td>-4</td>\n",
              "    </tr>\n",
              "    <tr>\n",
              "      <th>2</th>\n",
              "      <td>0</td>\n",
              "      <td>Total</td>\n",
              "      <td>17826060</td>\n",
              "      <td>8765430</td>\n",
              "      <td>6263050</td>\n",
              "      <td>2535510</td>\n",
              "    </tr>\n",
              "    <tr>\n",
              "      <th>3</th>\n",
              "      <td>0</td>\n",
              "      <td>$1 under $25,000</td>\n",
              "      <td>5824360</td>\n",
              "      <td>4130490</td>\n",
              "      <td>736980</td>\n",
              "      <td>888700</td>\n",
              "    </tr>\n",
              "    <tr>\n",
              "      <th>4</th>\n",
              "      <td>0</td>\n",
              "      <td>$25,000 under $50,000</td>\n",
              "      <td>4233580</td>\n",
              "      <td>2205410</td>\n",
              "      <td>1035040</td>\n",
              "      <td>923610</td>\n",
              "    </tr>\n",
              "  </tbody>\n",
              "</table>\n",
              "</div>"
            ],
            "text/plain": [
              "  ZIP\\ncode [1]  ... Number of head of household returns\n",
              "0           NaN  ...                                 NaN\n",
              "1           NaN  ...                                  -4\n",
              "2             0  ...                             2535510\n",
              "3             0  ...                              888700\n",
              "4             0  ...                              923610\n",
              "\n",
              "[5 rows x 6 columns]"
            ]
          },
          "metadata": {
            "tags": []
          },
          "execution_count": 23
        }
      ]
    },
    {
      "cell_type": "code",
      "metadata": {
        "id": "KqW_VMCPjvQS",
        "colab_type": "code",
        "outputId": "deb416d0-c68c-48ef-8a92-ce4add9630a3",
        "colab": {
          "base_uri": "https://localhost:8080/",
          "height": 34
        }
      },
      "source": [
        "len(household_revenue.index)"
      ],
      "execution_count": 0,
      "outputs": [
        {
          "output_type": "execute_result",
          "data": {
            "text/plain": [
              "11843"
            ]
          },
          "metadata": {
            "tags": []
          },
          "execution_count": 9
        }
      ]
    },
    {
      "cell_type": "code",
      "metadata": {
        "id": "9XtheczqkCsF",
        "colab_type": "code",
        "outputId": "fdfa70a4-8252-4eaa-b9e3-2ed92ffbccc0",
        "colab": {
          "base_uri": "https://localhost:8080/",
          "height": 136
        }
      },
      "source": [
        "household_revenue.iloc[11824,:]"
      ],
      "execution_count": 32,
      "outputs": [
        {
          "output_type": "execute_result",
          "data": {
            "text/plain": [
              "ZIP\\ncode [1]                                     99999\n",
              "Size of adjusted gross income          $200,000 or more\n",
              "Number of returns                                 22940\n",
              "Number of single returns                           4960\n",
              "Number of joint returns                           17050\n",
              "Number of head of household returns                 870\n",
              "Name: 11824, dtype: object"
            ]
          },
          "metadata": {
            "tags": []
          },
          "execution_count": 32
        }
      ]
    },
    {
      "cell_type": "code",
      "metadata": {
        "id": "_sKoa_NQkNw1",
        "colab_type": "code",
        "colab": {}
      },
      "source": [
        "postcode_revenue = pd.DataFrame(columns=['ZipCode', '1_to_25000', '25000_to_50000','50000_to_75000','75000_to_100000','100000_to_200000','200000_and_more'])\n",
        "for i in range(int((len(household_revenue.index)-32)/8)):\n",
        "  postcode_revenue=postcode_revenue.append({'ZipCode': household_revenue.iloc[(10+8*i),0], '1_to_25000': household_revenue.iloc[(10+8*i+1),2], '25000_to_50000': household_revenue.iloc[(10+8*i+2),2], '50000_to_75000': household_revenue.iloc[(10+8*i+3),2],'75000_to_100000': household_revenue.iloc[(10+8*i+4),2],'100000_to_200000': household_revenue.iloc[(10+8*i+5),2],'200000_and_more':household_revenue.iloc[(10+8*i+6),2] }, ignore_index=True)"
      ],
      "execution_count": 0,
      "outputs": []
    },
    {
      "cell_type": "code",
      "metadata": {
        "id": "NChGH89T-U0o",
        "colab_type": "code",
        "colab": {
          "base_uri": "https://localhost:8080/",
          "height": 204
        },
        "outputId": "4f8ff8ac-3597-4716-ebf9-21cf6d5366f2"
      },
      "source": [
        "postcode_revenue.tail()"
      ],
      "execution_count": 46,
      "outputs": [
        {
          "output_type": "execute_result",
          "data": {
            "text/html": [
              "<div>\n",
              "<style scoped>\n",
              "    .dataframe tbody tr th:only-of-type {\n",
              "        vertical-align: middle;\n",
              "    }\n",
              "\n",
              "    .dataframe tbody tr th {\n",
              "        vertical-align: top;\n",
              "    }\n",
              "\n",
              "    .dataframe thead th {\n",
              "        text-align: right;\n",
              "    }\n",
              "</style>\n",
              "<table border=\"1\" class=\"dataframe\">\n",
              "  <thead>\n",
              "    <tr style=\"text-align: right;\">\n",
              "      <th></th>\n",
              "      <th>ZipCode</th>\n",
              "      <th>1_to_25000</th>\n",
              "      <th>25000_to_50000</th>\n",
              "      <th>50000_to_75000</th>\n",
              "      <th>75000_to_100000</th>\n",
              "      <th>100000_to_200000</th>\n",
              "      <th>200000_and_more</th>\n",
              "    </tr>\n",
              "  </thead>\n",
              "  <tbody>\n",
              "    <tr>\n",
              "      <th>1471</th>\n",
              "      <td>96134</td>\n",
              "      <td>350</td>\n",
              "      <td>260</td>\n",
              "      <td>130</td>\n",
              "      <td>50</td>\n",
              "      <td>70</td>\n",
              "      <td>0</td>\n",
              "    </tr>\n",
              "    <tr>\n",
              "      <th>1472</th>\n",
              "      <td>96137</td>\n",
              "      <td>430</td>\n",
              "      <td>260</td>\n",
              "      <td>210</td>\n",
              "      <td>120</td>\n",
              "      <td>160</td>\n",
              "      <td>30</td>\n",
              "    </tr>\n",
              "    <tr>\n",
              "      <th>1473</th>\n",
              "      <td>96146</td>\n",
              "      <td>270</td>\n",
              "      <td>170</td>\n",
              "      <td>100</td>\n",
              "      <td>50</td>\n",
              "      <td>90</td>\n",
              "      <td>70</td>\n",
              "    </tr>\n",
              "    <tr>\n",
              "      <th>1474</th>\n",
              "      <td>96150</td>\n",
              "      <td>3390</td>\n",
              "      <td>2090</td>\n",
              "      <td>1050</td>\n",
              "      <td>660</td>\n",
              "      <td>1000</td>\n",
              "      <td>330</td>\n",
              "    </tr>\n",
              "    <tr>\n",
              "      <th>1475</th>\n",
              "      <td>96161</td>\n",
              "      <td>1570</td>\n",
              "      <td>1170</td>\n",
              "      <td>720</td>\n",
              "      <td>520</td>\n",
              "      <td>1200</td>\n",
              "      <td>740</td>\n",
              "    </tr>\n",
              "  </tbody>\n",
              "</table>\n",
              "</div>"
            ],
            "text/plain": [
              "     ZipCode 1_to_25000  ... 100000_to_200000 200000_and_more\n",
              "1471   96134        350  ...               70               0\n",
              "1472   96137        430  ...              160              30\n",
              "1473   96146        270  ...               90              70\n",
              "1474   96150       3390  ...             1000             330\n",
              "1475   96161       1570  ...             1200             740\n",
              "\n",
              "[5 rows x 7 columns]"
            ]
          },
          "metadata": {
            "tags": []
          },
          "execution_count": 46
        }
      ]
    },
    {
      "cell_type": "code",
      "metadata": {
        "id": "DkcYmzWaJF6W",
        "colab_type": "code",
        "colab": {}
      },
      "source": [
        "postcode_revenue.to_csv (r'/content/drive/My Drive/california_revenue_per_postcode.csv', index = False, header=True)"
      ],
      "execution_count": 0,
      "outputs": []
    }
  ]
}